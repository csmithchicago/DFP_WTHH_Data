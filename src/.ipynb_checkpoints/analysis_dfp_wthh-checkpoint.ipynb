{
 "cells": [
  {
   "cell_type": "code",
   "execution_count": 1,
   "metadata": {},
   "outputs": [
    {
     "data": {
      "text/html": [
       "<script>requirejs.config({paths: { 'plotly': ['https://cdn.plot.ly/plotly-latest.min']},});if(!window.Plotly) {{require(['plotly'],function(plotly) {window.Plotly=plotly;});}}</script>"
      ],
      "text/vnd.plotly.v1+html": [
       "<script>requirejs.config({paths: { 'plotly': ['https://cdn.plot.ly/plotly-latest.min']},});if(!window.Plotly) {{require(['plotly'],function(plotly) {window.Plotly=plotly;});}}</script>"
      ]
     },
     "metadata": {},
     "output_type": "display_data"
    }
   ],
   "source": [
    "import itertools as it\n",
    "import json\n",
    "import re\n",
    "import warnings\n",
    "\n",
    "import dexplot as dxp\n",
    "import matplotlib.pyplot as plt\n",
    "import numpy as np\n",
    "import pandas as pd\n",
    "import plotly.graph_objs as go\n",
    "import plotly.plotly as py\n",
    "import seaborn as sns\n",
    "from dfpvizpy.dfpvizpy import dfpSave\n",
    "from plotly.offline import download_plotlyjs, init_notebook_mode, iplot, plot\n",
    "\n",
    "# Make plotly work with Jupyter notebook\n",
    "init_notebook_mode(connected=True)\n",
    "\n",
    "%matplotlib inline\n",
    "warnings.simplefilter(action='ignore', category=FutureWarning)\n",
    "pd.options.mode.chained_assignment = None\n",
    "sns.set(style=\"ticks\", context='talk')\n",
    "sns.set_palette('colorblind')"
   ]
  },
  {
   "cell_type": "code",
   "execution_count": 2,
   "metadata": {},
   "outputs": [],
   "source": [
    "# this is the .json file with all of the questions and coding of the variables\n",
    "with open('../raw_data/dfp_survey_questions.json', 'r') as fp:\n",
    "    polling_info = json.load(fp)"
   ]
  },
  {
   "cell_type": "code",
   "execution_count": 3,
   "metadata": {},
   "outputs": [],
   "source": [
    "other_cols = set(polling_info['misc']['other_cols'])\n",
    "quant_cols = set(polling_info['misc']['quant_cols'])\n",
    "unknown_cols = set(polling_info['misc']['unknown_cols'])\n",
    "agree_order = polling_info['misc']['agree_order']\n",
    "age_order = polling_info['misc']['age_order']\n",
    "net_positivity_dict = polling_info['misc']['net_positivity_dict']\n",
    "state_dict = polling_info['misc']['state_dict']\n",
    "dict_keys = set(polling_info.keys())"
   ]
  },
  {
   "cell_type": "code",
   "execution_count": 4,
   "metadata": {},
   "outputs": [],
   "source": [
    "# reading in the data to a dataframe\n",
    "df = pd.read_csv('../raw_data/DFP_WTHH_release.csv', index_col=0)\n",
    "\n",
    "# there are two values that need to be moved into the \"employ\" column\n",
    "df.loc[2939]['employ'] = 6\n",
    "df.loc[3110]['employ'] = 9\n",
    "df.drop(columns='job', inplace=True)\n",
    "# df.fillna('?', inplace=True)\n",
    "df['state'] = df['state'].replace('District of Columbia', 11)\n",
    "df_cols = set(df.columns.tolist())\n",
    "qual_cols = df_cols - quant_cols - other_cols - unknown_cols"
   ]
  },
  {
   "cell_type": "code",
   "execution_count": 5,
   "metadata": {},
   "outputs": [],
   "source": [
    "# replace vlaues in qualative answers\n",
    "for column in qual_cols:\n",
    "    df[column] = df[column].fillna(999).astype(int).astype(str).replace(\n",
    "        '999', '?').replace(polling_info[column])\n",
    "quant_df = df[list(quant_cols)].astype(float)\n",
    "qual_df = df[list(qual_cols)]"
   ]
  },
  {
   "cell_type": "code",
   "execution_count": 6,
   "metadata": {},
   "outputs": [],
   "source": [
    "# saving counts to a text file\n",
    "with open('../raw_data/polling_counts.txt', 'w') as f:\n",
    "    for column in qual_cols:\n",
    "            f.write(column + ' | ' + polling_info[column][\"question\"] + '\\n\\n')\n",
    "            f.write(\"*-\" * 35 + '\\n\\n')\n",
    "            f.write(qual_df[column].value_counts().to_string())\n",
    "            f.write('\\n\\n\\n')"
   ]
  },
  {
   "cell_type": "code",
   "execution_count": 7,
   "metadata": {},
   "outputs": [],
   "source": [
    "# for col in qual_cols:\n",
    "#     s = sns.catplot(\n",
    "#         x='age5',\n",
    "#         kind='count',\n",
    "#         hue=col,\n",
    "#         col='gender',\n",
    "#         data=df,\n",
    "#         col_wrap=2,\n",
    "#         height=6,\n",
    "#         aspect=2,\n",
    "#         legend=False,\n",
    "#         order=list(polling_info['age5'].values())[:-1])\n",
    "#     # s.ax.set_ylabel('Number of Respondents')\n",
    "#     # s.ax.set_xlabel('Age')\n",
    "#     # s.ax.set_title(polling_info['FLAG']['question'])\n",
    "#     s.axes[1].legend(frameon=False)\n",
    "#     s.axes[0].set_title('Female')\n",
    "#     s.axes[1].set_title('Male')\n",
    "#     # s.fig.tight_layout()\n",
    "#     s.fig.suptitle(polling_info[col]['question'].title())\n",
    "#     s.fig.subplots_adjust(top=0.8)\n",
    "#     dfpSave(f'../figures/age_and_{col}.png', s.axes)\n",
    "# #     plt.show()"
   ]
  },
  {
   "cell_type": "code",
   "execution_count": 8,
   "metadata": {
    "code_folding": []
   },
   "outputs": [],
   "source": [
    "def freq_table(x, hue=None, col=None):\n",
    "    '''\n",
    "\n",
    "    '''\n",
    "    if hue is None and col is None:\n",
    "        x_ind = x[x == '?'].index\n",
    "        x.drop(x_ind, inplace=True)\n",
    "        \n",
    "        tbl = pd.DataFrame(x.value_counts())\n",
    "        N = x.value_counts().sum()\n",
    "        tbl['Percentages'] = np.round(100 * tbl[x.name] / N, decimals=2)\n",
    "        \n",
    "        return [(tbl, N)]\n",
    "    \n",
    "    elif hue is not None and col is None:\n",
    "\n",
    "        drp_indx = x[(x == '?') | (hue == '?')].index\n",
    "        x.drop(drp_indx, inplace=True)\n",
    "        hue.drop(drp_indx, inplace=True)\n",
    "\n",
    "        dumb_df = pd.get_dummies(x)\n",
    "        dumb_df[hue.name] = hue\n",
    "        \n",
    "        raw = dumb_df.groupby(by=hue.name).sum()\n",
    "\n",
    "        N = x.value_counts().sort_index().values\n",
    "        print(N)\n",
    "        scaled = raw.copy()\n",
    "        for idx in raw.index:\n",
    "            scaled.loc[idx] = raw.loc[idx].values / N * 100\n",
    "\n",
    "        return [(np.round(scaled, decimals=2), N)]\n",
    "    \n",
    "    else:\n",
    "        tables = []\n",
    "        drp_indx = x[(x == '?') | (hue == '?') | (col == '?')].index\n",
    "        x.drop(drp_indx, inplace=True)\n",
    "        hue.drop(drp_indx, inplace=True)\n",
    "        col.drop(drp_indx, inplace=True)\n",
    "\n",
    "        df = pd.get_dummies(x)\n",
    "        df[hue.name] = hue\n",
    "        df[col.name] = col\n",
    "\n",
    "        for column in df[col.name].unique():\n",
    "            df_col = df[df[col.name] == column]\n",
    "    \n",
    "            grouped = df_col.groupby(by=hue).sum()\n",
    "\n",
    "            N = x[col == column].value_counts().sort_index().values\n",
    "\n",
    "            scaled = grouped.copy()\n",
    "            for idx in grouped.index:\n",
    "                scaled.loc[idx] = grouped.loc[idx].values / N * 100\n",
    "\n",
    "            scaled.index.name = f'{column}'\n",
    "            tables.append((np.round(scaled, decimals=2), len(df_col)))\n",
    "\n",
    "        return tables"
   ]
  },
  {
   "cell_type": "code",
   "execution_count": 9,
   "metadata": {},
   "outputs": [],
   "source": [
    "def freq_df(x, hue=None, col=None):\n",
    "    '''\n",
    "    \n",
    "    '''\n",
    "    x_name = x.name\n",
    "\n",
    "    if hue is not None:\n",
    "        hue_name = hue.name\n",
    "    if col is not None:\n",
    "        col_name = col.name\n",
    "\n",
    "    tbls = freq_table(x, hue=hue, col=col)\n",
    "    df_list = []\n",
    "    for dft, N in tbls:\n",
    "        te = pd.DataFrame([(x, hue, vals) for (hue, x), vals in zip(\n",
    "            it.product(dft.index, dft.columns), dft.values.flatten())])\n",
    "        \n",
    "        if hue is not None:\n",
    "            te.columns = [x_name, hue_name, 'Percentage']\n",
    "        else:\n",
    "            te.columns = [x_name, 'Percentage']\n",
    "        if col is not None:\n",
    "            te[col_name] = dft.index.name\n",
    "        df_list.append(te)\n",
    "\n",
    "    df = pd.concat(df_list, ignore_index=True)\n",
    "    df.sort_values(by=x.name, inplace=True)\n",
    "    \n",
    "    return df, tbls"
   ]
  },
  {
   "cell_type": "code",
   "execution_count": 10,
   "metadata": {
    "scrolled": false
   },
   "outputs": [],
   "source": [
    "freq_dfs, freq_tables = freq_df(qual_df.age5, col=qual_df.gender, hue=qual_df.OFFEND)"
   ]
  },
  {
   "cell_type": "code",
   "execution_count": 11,
   "metadata": {
    "scrolled": false
   },
   "outputs": [
    {
     "data": {
      "image/png": "[encoded data removed]",
      "text/plain": [
       "<Figure size 1002.65x360 with 2 Axes>"
      ]
     },
     "metadata": {},
     "output_type": "display_data"
    }
   ],
   "source": [
    "s = sns.catplot(\n",
    "    x='age5',\n",
    "    y='Percentage',\n",
    "    col='gender', \n",
    "    hue='OFFEND',\n",
    "    data=freq_dfs,\n",
    "    kind='bar',\n",
    "    col_wrap=2)\n",
    "for ax in s.axes:\n",
    "    ax.set_xticklabels(age_order)\n",
    "    ax.set_ylim([0, 60])\n",
    "# s.figure.set_figheight(10)\n",
    "# s.figure.set_figwidth(15)\n",
    "# s.axes.tick_params(axis='x', rotation=45)\n",
    "# s.axes.set_xlabel('')"
   ]
  },
  {
   "cell_type": "code",
   "execution_count": 12,
   "metadata": {},
   "outputs": [],
   "source": [
    "freq_dfs.OFFEND.replace(net_positivity_dict, inplace=True)"
   ]
  },
  {
   "cell_type": "code",
   "execution_count": 13,
   "metadata": {},
   "outputs": [
    {
     "data": {
      "image/png": "[encoded data removed]",
      "text/plain": [
       "<Figure size 872.65x360 with 2 Axes>"
      ]
     },
     "metadata": {},
     "output_type": "display_data"
    }
   ],
   "source": [
    "s = sns.catplot(\n",
    "    x='age5',\n",
    "    y='Percentage',\n",
    "    col='gender', \n",
    "    hue='OFFEND',\n",
    "    data=freq_dfs,\n",
    "    kind='bar',\n",
    "    col_wrap=2,\n",
    "    ci=None)\n",
    "for ax in s.axes:\n",
    "    ax.set_xticklabels(age_order)\n",
    "    ax.set_ylim([0, 60])\n",
    "# s.figure.set_figheight(10)\n",
    "# s.figure.set_figwidth(15)\n",
    "# s.axes.tick_params(axis='x', rotation=45)\n",
    "# s.axes.set_xlabel('')"
   ]
  },
  {
   "cell_type": "code",
   "execution_count": 14,
   "metadata": {},
   "outputs": [],
   "source": [
    "li = []\n",
    "for age in freq_dfs.age5.unique():\n",
    "    for gender in freq_dfs.gender.unique():\n",
    "        sm = freq_dfs[(freq_dfs.age5 == age) & (freq_dfs.gender == gender)]\n",
    "        li.append([\n",
    "            age, gender, sm[sm.OFFEND == 'Positive']['Percentage'].values.sum() -\n",
    "            sm[sm.OFFEND == 'Negative']['Percentage'].values.sum()\n",
    "        ])"
   ]
  },
  {
   "cell_type": "code",
   "execution_count": 15,
   "metadata": {},
   "outputs": [
    {
     "data": {
      "text/html": [
       "<div>\n",
       "<style scoped>\n",
       "    .dataframe tbody tr th:only-of-type {\n",
       "        vertical-align: middle;\n",
       "    }\n",
       "\n",
       "    .dataframe tbody tr th {\n",
       "        vertical-align: top;\n",
       "    }\n",
       "\n",
       "    .dataframe thead th {\n",
       "        text-align: right;\n",
       "    }\n",
       "</style>\n",
       "<table border=\"1\" class=\"dataframe\">\n",
       "  <thead>\n",
       "    <tr style=\"text-align: right;\">\n",
       "      <th></th>\n",
       "      <th>Age</th>\n",
       "      <th>Gender</th>\n",
       "      <th>Net Positivity</th>\n",
       "    </tr>\n",
       "  </thead>\n",
       "  <tbody>\n",
       "    <tr>\n",
       "      <th>0</th>\n",
       "      <td>18-29</td>\n",
       "      <td>Female</td>\n",
       "      <td>-53.16</td>\n",
       "    </tr>\n",
       "    <tr>\n",
       "      <th>1</th>\n",
       "      <td>18-29</td>\n",
       "      <td>Male</td>\n",
       "      <td>-26.41</td>\n",
       "    </tr>\n",
       "    <tr>\n",
       "      <th>2</th>\n",
       "      <td>30-39</td>\n",
       "      <td>Female</td>\n",
       "      <td>-31.53</td>\n",
       "    </tr>\n",
       "    <tr>\n",
       "      <th>3</th>\n",
       "      <td>30-39</td>\n",
       "      <td>Male</td>\n",
       "      <td>-14.61</td>\n",
       "    </tr>\n",
       "    <tr>\n",
       "      <th>4</th>\n",
       "      <td>40-49</td>\n",
       "      <td>Female</td>\n",
       "      <td>-21.09</td>\n",
       "    </tr>\n",
       "    <tr>\n",
       "      <th>5</th>\n",
       "      <td>40-49</td>\n",
       "      <td>Male</td>\n",
       "      <td>4.27</td>\n",
       "    </tr>\n",
       "    <tr>\n",
       "      <th>6</th>\n",
       "      <td>50-64</td>\n",
       "      <td>Female</td>\n",
       "      <td>-14.51</td>\n",
       "    </tr>\n",
       "    <tr>\n",
       "      <th>7</th>\n",
       "      <td>50-64</td>\n",
       "      <td>Male</td>\n",
       "      <td>4.68</td>\n",
       "    </tr>\n",
       "    <tr>\n",
       "      <th>8</th>\n",
       "      <td>65+</td>\n",
       "      <td>Female</td>\n",
       "      <td>-17.52</td>\n",
       "    </tr>\n",
       "    <tr>\n",
       "      <th>9</th>\n",
       "      <td>65+</td>\n",
       "      <td>Male</td>\n",
       "      <td>9.89</td>\n",
       "    </tr>\n",
       "  </tbody>\n",
       "</table>\n",
       "</div>"
      ],
      "text/plain": [
       "     Age  Gender  Net Positivity\n",
       "0  18-29  Female          -53.16\n",
       "1  18-29    Male          -26.41\n",
       "2  30-39  Female          -31.53\n",
       "3  30-39    Male          -14.61\n",
       "4  40-49  Female          -21.09\n",
       "5  40-49    Male            4.27\n",
       "6  50-64  Female          -14.51\n",
       "7  50-64    Male            4.68\n",
       "8    65+  Female          -17.52\n",
       "9    65+    Male            9.89"
      ]
     },
     "execution_count": 15,
     "metadata": {},
     "output_type": "execute_result"
    }
   ],
   "source": [
    "dfc = pd.DataFrame(li, columns=['Age', 'Gender', 'Net Positivity'])\n",
    "dfc"
   ]
  },
  {
   "cell_type": "code",
   "execution_count": 16,
   "metadata": {},
   "outputs": [
    {
     "data": {
      "text/plain": [
       "<matplotlib.axes._subplots.AxesSubplot at 0x7f257a283be0>"
      ]
     },
     "execution_count": 16,
     "metadata": {},
     "output_type": "execute_result"
    },
    {
     "data": {
      "image/png": "[encoded data removed]",
      "text/plain": [
       "<Figure size 432x288 with 1 Axes>"
      ]
     },
     "metadata": {},
     "output_type": "display_data"
    }
   ],
   "source": [
    "sns.lineplot(x='Age', y='Net Positivity', data=dfc, hue='Gender')"
   ]
  },
  {
   "cell_type": "code",
   "execution_count": null,
   "metadata": {},
   "outputs": [],
   "source": []
  },
  {
   "cell_type": "code",
   "execution_count": null,
   "metadata": {},
   "outputs": [],
   "source": []
  },
  {
   "cell_type": "code",
   "execution_count": null,
   "metadata": {},
   "outputs": [],
   "source": []
  },
  {
   "cell_type": "code",
   "execution_count": 17,
   "metadata": {},
   "outputs": [],
   "source": [
    "state_dict = {f'{value}': f'{key}' for key, value in state_dict.items()}"
   ]
  },
  {
   "cell_type": "code",
   "execution_count": 18,
   "metadata": {},
   "outputs": [
    {
     "ename": "AttributeError",
     "evalue": "'DataFrame' object has no attribute 'Ft_Blacks'",
     "output_type": "error",
     "traceback": [
      "\u001b[0;31m---------------------------------------------------------------------------\u001b[0m",
      "\u001b[0;31mAttributeError\u001b[0m                            Traceback (most recent call last)",
      "\u001b[0;32m<ipython-input-18-8be757a20eb9>\u001b[0m in \u001b[0;36m<module>\u001b[0;34m()\u001b[0m\n\u001b[1;32m      3\u001b[0m \u001b[0;34m\u001b[0m\u001b[0m\n\u001b[1;32m      4\u001b[0m \u001b[0mdf\u001b[0m\u001b[0;34m[\u001b[0m\u001b[0;34m'text'\u001b[0m\u001b[0;34m]\u001b[0m \u001b[0;34m=\u001b[0m \u001b[0mdf\u001b[0m\u001b[0;34m[\u001b[0m\u001b[0;34m'state'\u001b[0m\u001b[0;34m]\u001b[0m\u001b[0;34m\u001b[0m\u001b[0;34m\u001b[0m\u001b[0m\n\u001b[0;32m----> 5\u001b[0;31m \u001b[0mdf\u001b[0m\u001b[0;34m[\u001b[0m\u001b[0;34m'z'\u001b[0m\u001b[0;34m]\u001b[0m \u001b[0;34m=\u001b[0m \u001b[0mdf\u001b[0m\u001b[0;34m.\u001b[0m\u001b[0mFt_Blacks\u001b[0m\u001b[0;34m.\u001b[0m\u001b[0mreplace\u001b[0m\u001b[0;34m(\u001b[0m\u001b[0;34m'?'\u001b[0m\u001b[0;34m,\u001b[0m \u001b[0;34m'0'\u001b[0m\u001b[0;34m)\u001b[0m\u001b[0;34m.\u001b[0m\u001b[0mastype\u001b[0m\u001b[0;34m(\u001b[0m\u001b[0mfloat\u001b[0m\u001b[0;34m)\u001b[0m \u001b[0;34m-\u001b[0m \u001b[0;36m50\u001b[0m\u001b[0;34m\u001b[0m\u001b[0;34m\u001b[0m\u001b[0m\n\u001b[0m\u001b[1;32m      6\u001b[0m \u001b[0mdf\u001b[0m\u001b[0;34m[\u001b[0m\u001b[0;34m'location'\u001b[0m\u001b[0;34m]\u001b[0m \u001b[0;34m=\u001b[0m \u001b[0mdf\u001b[0m\u001b[0;34m.\u001b[0m\u001b[0mstate\u001b[0m\u001b[0;34m.\u001b[0m\u001b[0mreplace\u001b[0m\u001b[0;34m(\u001b[0m\u001b[0mstate_dict\u001b[0m\u001b[0;34m)\u001b[0m\u001b[0;34m\u001b[0m\u001b[0;34m\u001b[0m\u001b[0m\n\u001b[1;32m      7\u001b[0m \u001b[0;34m\u001b[0m\u001b[0m\n",
      "\u001b[0;32m~/anaconda3/lib/python3.6/site-packages/pandas/core/generic.py\u001b[0m in \u001b[0;36m__getattr__\u001b[0;34m(self, name)\u001b[0m\n\u001b[1;32m   4374\u001b[0m             \u001b[0;32mif\u001b[0m \u001b[0mself\u001b[0m\u001b[0;34m.\u001b[0m\u001b[0m_info_axis\u001b[0m\u001b[0;34m.\u001b[0m\u001b[0m_can_hold_identifiers_and_holds_name\u001b[0m\u001b[0;34m(\u001b[0m\u001b[0mname\u001b[0m\u001b[0;34m)\u001b[0m\u001b[0;34m:\u001b[0m\u001b[0;34m\u001b[0m\u001b[0;34m\u001b[0m\u001b[0m\n\u001b[1;32m   4375\u001b[0m                 \u001b[0;32mreturn\u001b[0m \u001b[0mself\u001b[0m\u001b[0;34m[\u001b[0m\u001b[0mname\u001b[0m\u001b[0;34m]\u001b[0m\u001b[0;34m\u001b[0m\u001b[0;34m\u001b[0m\u001b[0m\n\u001b[0;32m-> 4376\u001b[0;31m             \u001b[0;32mreturn\u001b[0m \u001b[0mobject\u001b[0m\u001b[0;34m.\u001b[0m\u001b[0m__getattribute__\u001b[0m\u001b[0;34m(\u001b[0m\u001b[0mself\u001b[0m\u001b[0;34m,\u001b[0m \u001b[0mname\u001b[0m\u001b[0;34m)\u001b[0m\u001b[0;34m\u001b[0m\u001b[0;34m\u001b[0m\u001b[0m\n\u001b[0m\u001b[1;32m   4377\u001b[0m \u001b[0;34m\u001b[0m\u001b[0m\n\u001b[1;32m   4378\u001b[0m     \u001b[0;32mdef\u001b[0m \u001b[0m__setattr__\u001b[0m\u001b[0;34m(\u001b[0m\u001b[0mself\u001b[0m\u001b[0;34m,\u001b[0m \u001b[0mname\u001b[0m\u001b[0;34m,\u001b[0m \u001b[0mvalue\u001b[0m\u001b[0;34m)\u001b[0m\u001b[0;34m:\u001b[0m\u001b[0;34m\u001b[0m\u001b[0;34m\u001b[0m\u001b[0m\n",
      "\u001b[0;31mAttributeError\u001b[0m: 'DataFrame' object has no attribute 'Ft_Blacks'"
     ]
    }
   ],
   "source": [
    "scl = [[0.0, 'rgb(242,240,247)'], [0.2, 'rgb(218,218,235)'], [0.4, 'rgb(188,189,220)'],\n",
    "       [0.6, 'rgb(158,154,200)'], [0.8, 'rgb(117,107,177)'], [1.0, 'rgb(84,39,143)']]\n",
    "\n",
    "df['text'] = df['state']\n",
    "df['z'] = df.Ft_Blacks.replace('?', '0').astype(float) - 50\n",
    "df['location'] = df.state.replace(state_dict)\n",
    "\n",
    "data = [\n",
    "    dict(\n",
    "        type='choropleth',\n",
    "        colorscale='YIOrRd',\n",
    "        autocolorscale=True,\n",
    "        locations=df.location,\n",
    "        z=df.z,\n",
    "        locationmode='USA-states',\n",
    "        text=df.text,\n",
    "        marker=dict(line=dict(color='rgb(255,255,255)', width=2)),\n",
    "        colorbar=dict(title='Trust'))\n",
    "]\n",
    "\n",
    "layout = dict(\n",
    "    title=polling_info['FT_Blacks']['question'],\n",
    "    geo=dict(\n",
    "        scope='usa',\n",
    "        projection=dict(type='albers usa'),\n",
    "        showlakes=True,\n",
    "        lakecolor='rgb(255, 255, 255)'),\n",
    ")\n",
    "\n",
    "fig = dict(data=data, layout=layout)\n",
    "iplot(fig, filename='d3-cloropleth-map.html')"
   ]
  },
  {
   "cell_type": "code",
   "execution_count": null,
   "metadata": {},
   "outputs": [],
   "source": []
  },
  {
   "cell_type": "code",
   "execution_count": null,
   "metadata": {},
   "outputs": [],
   "source": []
  },
  {
   "cell_type": "code",
   "execution_count": null,
   "metadata": {},
   "outputs": [],
   "source": []
  },
  {
   "cell_type": "code",
   "execution_count": null,
   "metadata": {},
   "outputs": [],
   "source": []
  },
  {
   "cell_type": "code",
   "execution_count": null,
   "metadata": {},
   "outputs": [],
   "source": []
  },
  {
   "cell_type": "code",
   "execution_count": null,
   "metadata": {},
   "outputs": [],
   "source": []
  },
  {
   "cell_type": "code",
   "execution_count": null,
   "metadata": {},
   "outputs": [],
   "source": []
  },
  {
   "cell_type": "code",
   "execution_count": null,
   "metadata": {},
   "outputs": [],
   "source": [
    "print(polling_info['FT_Whites']['question'])\n",
    "\n",
    "dft = df[['FT_Whites', 'race']]\n",
    "dft.race = dft['race'].replace('?', 999).astype(int).astype(str).replace(\n",
    "    '999', '?').replace(polling_info['race'])\n",
    "dft = dft[dft.FT_Whites != '?']\n",
    "dft.FT_Whites = dft[\"FT_Whites\"].astype(float)\n",
    "dfg = dft.groupby(['race']).median()\n",
    "sort_order = dfg.sort_values(by='FT_Whites', ascending=False).index.tolist()\n",
    "\n",
    "x_dat = df[\"race\"].replace('?', 999).astype(int).astype(str).replace(\n",
    "    '999', '?').replace(polling_info['race'])\n",
    "f, ax = plt.subplots(figsize=(13, 8))\n",
    "idx = df[df.FT_Blacks != '?']\n",
    "df_new = idx[idx.FT_Whites != '?']\n",
    "ax = sns.boxplot(\n",
    "    y=x_dat, x=df_new[\"FT_Whites\"].astype(float), order=sort_order)\n",
    "ax.set_ylabel('')\n",
    "ax.set_title('Feelings Toward White People')\n",
    "ax.set_xlabel('')\n",
    "ax.set_xticks([0, 25, 50, 75, 100])\n",
    "ax.set_xticklabels(\n",
    "    ['Very Negative', 'Negative', 'Neutral', 'Positive', 'Very Positive'])\n",
    "dfpSave('feelings_towards_white_people_by_race.png', [ax])\n",
    "plt.show()"
   ]
  },
  {
   "cell_type": "code",
   "execution_count": null,
   "metadata": {},
   "outputs": [],
   "source": []
  },
  {
   "cell_type": "code",
   "execution_count": null,
   "metadata": {},
   "outputs": [],
   "source": []
  },
  {
   "cell_type": "code",
   "execution_count": null,
   "metadata": {
    "code_folding": []
   },
   "outputs": [],
   "source": [
    "table = pd.pivot_table(\n",
    "    df, index=['Age', 'Party'], columns=['Gender'], aggfunc=np.sum)\n",
    "display(table)"
   ]
  },
  {
   "cell_type": "code",
   "execution_count": null,
   "metadata": {},
   "outputs": [],
   "source": [
    "for x in table:\n",
    "    print(x)"
   ]
  },
  {
   "cell_type": "code",
   "execution_count": null,
   "metadata": {},
   "outputs": [],
   "source": [
    "df.Age.head(5)"
   ]
  },
  {
   "cell_type": "code",
   "execution_count": null,
   "metadata": {},
   "outputs": [],
   "source": [
    "for name in np.sort(df.columns):\n",
    "    print(df[name].head(5))"
   ]
  },
  {
   "cell_type": "code",
   "execution_count": null,
   "metadata": {},
   "outputs": [],
   "source": [
    "list(polling_info['FLAG'].values())"
   ]
  },
  {
   "cell_type": "code",
   "execution_count": null,
   "metadata": {},
   "outputs": [],
   "source": [
    "polling_info['FLAG']['question']"
   ]
  },
  {
   "cell_type": "code",
   "execution_count": null,
   "metadata": {},
   "outputs": [],
   "source": [
    "df['Gender'].value_counts()"
   ]
  },
  {
   "cell_type": "code",
   "execution_count": null,
   "metadata": {},
   "outputs": [],
   "source": []
  },
  {
   "cell_type": "code",
   "execution_count": null,
   "metadata": {},
   "outputs": [],
   "source": [
    "df.state.value_counts().sort_index().sum()"
   ]
  },
  {
   "cell_type": "code",
   "execution_count": null,
   "metadata": {},
   "outputs": [],
   "source": []
  }
 ],
 "metadata": {
  "hide_input": false,
  "kernelspec": {
   "display_name": "Python 3",
   "language": "python",
   "name": "python3"
  },
  "language_info": {
   "codemirror_mode": {
    "name": "ipython",
    "version": 3
   },
   "file_extension": ".py",
   "mimetype": "text/x-python",
   "name": "python",
   "nbconvert_exporter": "python",
   "pygments_lexer": "ipython3",
   "version": "3.6.8"
  },
  "toc": {
   "base_numbering": 1,
   "nav_menu": {},
   "number_sections": true,
   "sideBar": true,
   "skip_h1_title": false,
   "title_cell": "Table of Contents",
   "title_sidebar": "Contents",
   "toc_cell": false,
   "toc_position": {},
   "toc_section_display": true,
   "toc_window_display": false
  }
 },
 "nbformat": 4,
 "nbformat_minor": 2
}
