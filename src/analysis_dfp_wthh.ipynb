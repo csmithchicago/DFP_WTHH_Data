{
 "cells": [
  {
   "cell_type": "code",
   "execution_count": 1,
   "metadata": {},
   "outputs": [
    {
     "data": {
      "text/html": [
       "<script>requirejs.config({paths: { 'plotly': ['https://cdn.plot.ly/plotly-latest.min']},});if(!window.Plotly) {{require(['plotly'],function(plotly) {window.Plotly=plotly;});}}</script>"
      ],
      "text/vnd.plotly.v1+html": [
       "<script>requirejs.config({paths: { 'plotly': ['https://cdn.plot.ly/plotly-latest.min']},});if(!window.Plotly) {{require(['plotly'],function(plotly) {window.Plotly=plotly;});}}</script>"
      ]
     },
     "metadata": {},
     "output_type": "display_data"
    }
   ],
   "source": [
    "import itertools as it\n",
    "import json\n",
    "import re\n",
    "import warnings\n",
    "\n",
    "import dexplot as dxp\n",
    "import matplotlib.pyplot as plt\n",
    "import numpy as np\n",
    "import pandas as pd\n",
    "import plotly.graph_objs as go\n",
    "import plotly.plotly as py\n",
    "import seaborn as sns\n",
    "from dfpvizpy.dfpvizpy import dfpSave\n",
    "from plotly.offline import download_plotlyjs, init_notebook_mode, iplot, plot\n",
    "\n",
    "# Make plotly work with Jupyter notebook\n",
    "init_notebook_mode(connected=True)\n",
    "\n",
    "%matplotlib inline\n",
    "warnings.simplefilter(action='ignore', category=FutureWarning)\n",
    "pd.options.mode.chained_assignment = None\n",
    "sns.set(style=\"ticks\", context='talk')\n",
    "sns.set_palette('colorblind')"
   ]
  },
  {
   "cell_type": "code",
   "execution_count": 4,
   "metadata": {},
   "outputs": [],
   "source": [
    "# these are columns which are the string 'other' responses\n",
    "others = ['state', 'race_t', 'senvote18_t', 'senvote18_undecided_t', 'specsenvote18_t', 'specsenvote18_undecided_t',\n",
    "          'housevote18_t', 'housevote18_undecided_t', 'govvote18_t', 'govvote18_undecided_t', 'NONVOTE_WHY_t',\n",
    "          'pp18_polactions_txt', 'pid3_t', 'presvote16post_t', 'e14_presvote12_t', 'religpew_t']\n",
    "\n",
    "agree_order = ['Strongly agree', 'Somewhat agree',\n",
    "            'Neither agree nor disagree', 'Somewhat disagree',\n",
    "            'Strongly disagree', 'Don\\'t know']\n",
    "\n",
    "age_order = ['18-29', '30-39', '40-49', '50-64', '65+']\n",
    "\n",
    "net_dict = {'Strongly agree': 'Positive', 'Somewhat agree': 'Positive',\n",
    "            'Neither agree nor disagree': 'Neutral', 'Somewhat disagree': 'Negative',\n",
    "            'Strongly disagree': 'Negative'}\n",
    "\n",
    "state_dict = {'Alaska': 'AK', 'Alabama': 'AL', 'Arkansas': 'AR', 'Arizona': 'AZ', \n",
    "              'California': 'CA', 'Colorado': 'CO', 'Connecticut': 'CT', 'District of Columbia': \n",
    "              'DC', 'Delaware': 'DE', 'Florida': 'FL', 'Georgia': 'GA', 'Hawaii': 'HI', 'Iowa': \n",
    "              'IA', 'Idaho': 'ID', 'Illinois': 'IL', 'Indiana': 'IN', 'Kansas': 'KS', 'Kentucky': \n",
    "              'KY', 'Louisiana': 'LA', 'Massachusetts': 'MA', 'Maryland': 'MD', 'Maine': 'ME', \n",
    "              'Michigan': 'MI', 'Minnesota': 'MN', 'Missouri': 'MO', 'Mississippi': 'MS', 'Montana': \n",
    "              'MT', 'North Carolina': 'NC', 'North Dakota': 'ND', 'Nebraska': 'NE', 'New Hampshire': \n",
    "              'NH', 'New Jersey': 'NJ', 'New Mexico': 'NM', 'Nevada': 'NV', 'New York': 'NY', 'Ohio': \n",
    "              'OH', 'Oklahoma': 'OK', 'Oregon': 'OR', 'Pennsylvania': 'PA', 'Rhode Island': 'RI', \n",
    "              'South Carolina': 'SC', 'South Dakota': 'SD', 'Tennessee': 'TN', 'Texas': 'TX', 'Utah': \n",
    "              'UT', 'Virginia': 'VA', 'Vermont': 'VT', 'Washington': 'WA', 'Wisconsin': 'WI', \n",
    "              'West Virginia': 'WV', 'Wyoming': 'WY'}"
   ]
  },
  {
   "cell_type": "code",
   "execution_count": 24,
   "metadata": {},
   "outputs": [],
   "source": [
    "# this is the .json file with all of the questions and coding of the variables\n",
    "with open('dfp_survey_questions.json', 'r') as fp:\n",
    "    polling_info = json.load(fp)"
   ]
  },
  {
   "cell_type": "code",
   "execution_count": 25,
   "metadata": {},
   "outputs": [],
   "source": [
    "# reading in the data to a dataframe\n",
    "df = pd.read_csv('DFP_WTHH_release.csv', index_col=0)\n",
    "\n",
    "# there are two values that need to be moved into the \"employ\" column\n",
    "df.loc[2939]['employ'] = 6\n",
    "df.loc[3110]['employ'] = 9\n",
    "df.drop(columns='job', inplace=True)\n",
    "df.drop(columns='weight_DFP', inplace=True)\n",
    "df.fillna('?', inplace=True)"
   ]
  },
  {
   "cell_type": "code",
   "execution_count": 26,
   "metadata": {},
   "outputs": [],
   "source": [
    "# # saving counts to a text file\n",
    "# with open('polling_counts.txt', 'w') as f:\n",
    "#     for column in df.columns:\n",
    "#         if column in df.columns and column in polling_info.keys() and column not in others:\n",
    "#             f.write(column + ' | ' + polling_info[column][\"question\"] + '\\n\\n')\n",
    "#             f.write(\"*-\" * 40 + '\\n\\n')\n",
    "#             f.write(df[column].replace('?', 999).astype(int).astype(str).replace('999', '?').replace(polling_info[column]).value_counts().to_string())\n",
    "#             f.write('\\n\\n\\n')"
   ]
  },
  {
   "cell_type": "code",
   "execution_count": 27,
   "metadata": {},
   "outputs": [],
   "source": [
    "data_cols = []\n",
    "unknown_cols = []\n",
    "for column in df.columns:\n",
    "    if column in df.columns and column in polling_info.keys() and column not in others:\n",
    "        df[column.title()] = df[column].replace('?', 999).astype(int).astype(str).replace('999', '?').replace(polling_info[column])\n",
    "        data_cols.append((column.title(), column))\n",
    "    elif (column not in df.columns or column not in polling_info.keys()) and column not in others:\n",
    "        unknown_cols.append((column.title(), column))\n",
    "        \n",
    "df['state'] = df['state'].replace('District of Columbia', 999).astype(int).astype(str).replace('999', 'District of Columbia').replace(polling_info['state'])\n",
    "data_cols.append('state')\n",
    "                                                                                                                                  "
   ]
  },
  {
   "cell_type": "code",
   "execution_count": 28,
   "metadata": {},
   "outputs": [
    {
     "data": {
      "text/plain": [
       "[('Has_Voted', 'has_voted'),\n",
       " ('Senvote18_Full', 'senvote18_full'),\n",
       " ('Specsenvote18_Full', 'specsenvote18_full'),\n",
       " ('Govvote18_Full', 'govvote18_full'),\n",
       " ('Which_Module', 'which_module'),\n",
       " ('House2_Imputed', 'house2_imputed'),\n",
       " ('House3', 'house3'),\n",
       " ('Gov2_Imputed', 'gov2_imputed'),\n",
       " ('Gov3', 'gov3'),\n",
       " ('Sen2_Imputed', 'sen2_imputed'),\n",
       " ('Sen3', 'sen3'),\n",
       " ('Housevote18_Full', 'housevote18_full'),\n",
       " ('Which_Sample', 'which_sample')]"
      ]
     },
     "execution_count": 28,
     "metadata": {},
     "output_type": "execute_result"
    }
   ],
   "source": [
    "unknown_cols"
   ]
  },
  {
   "cell_type": "code",
   "execution_count": 23,
   "metadata": {},
   "outputs": [
    {
     "data": {
      "text/plain": [
       "True"
      ]
     },
     "execution_count": 23,
     "metadata": {},
     "output_type": "execute_result"
    }
   ],
   "source": [
    "'USR' in df"
   ]
  },
  {
   "cell_type": "code",
   "execution_count": null,
   "metadata": {},
   "outputs": [],
   "source": []
  },
  {
   "cell_type": "code",
   "execution_count": null,
   "metadata": {},
   "outputs": [],
   "source": []
  },
  {
   "cell_type": "code",
   "execution_count": 10,
   "metadata": {},
   "outputs": [],
   "source": [
    "# for col, dict_col in data_cols:\n",
    "#     s = sns.catplot(x='Age5', kind='count', hue=col, col='Gender', data=df, col_wrap=2, height=6, \n",
    "#                     aspect=2, legend=False, order=list(polling_info['age5'].values())[:-1])\n",
    "#     # s.ax.set_ylabel('Number of Respondents')\n",
    "#     # s.ax.set_xlabel('Age')\n",
    "#     # s.ax.set_title(polling_info['FLAG']['question'])\n",
    "#     s.axes[1].legend(frameon=False)\n",
    "#     s.axes[0].set_title('Female')\n",
    "#     s.axes[1].set_title('Male')\n",
    "#     # s.fig.tight_layout()\n",
    "#     s.fig.suptitle(polling_info[dict_col]['question'].title())\n",
    "#     s.fig.subplots_adjust(top=0.8)\n",
    "#     dfpSave(f'age_and_{col}.png', s.axes)\n",
    "# #     plt.show()"
   ]
  },
  {
   "cell_type": "code",
   "execution_count": 12,
   "metadata": {
    "code_folding": []
   },
   "outputs": [],
   "source": [
    "def freq_table(x, hue=None, col=None):\n",
    "    '''\n",
    "    \n",
    "    '''\n",
    "    tables = []\n",
    "    x_ind = x[x == '?'].index\n",
    "    \n",
    "    x.drop(x_ind, inplace=True)\n",
    "    if hue is not None:\n",
    "        hue.drop(x_ind, inplace=True)\n",
    "    if col is not None:\n",
    "        col.drop(x_ind, inplace=True)\n",
    "    \n",
    "    df = pd.get_dummies(x)\n",
    "    df['Hue'] = hue\n",
    "    df['Col'] = col\n",
    "    \n",
    "    drp_index = df[(df.Hue == '?') | (df.Col == '?')].index\n",
    "    df.drop(drp_index, inplace=True)\n",
    "    \n",
    "    totals = df[x.unique()].sum(axis=0)\n",
    "    totals['Total'] = totals.sum()\n",
    "    \n",
    "    for col in df.Col.unique():\n",
    "        df_col = df[df.Col == col]\n",
    "        grouped = df_col.groupby(by=hue).sum()\n",
    "        grouped['Total'] = grouped.sum(axis=1)\n",
    "        num = pd.DataFrame([grouped.sum(axis=0).values], index=['Total'], \n",
    "                           columns=grouped.sum(axis=0).index)\n",
    "\n",
    "        x_vals = grouped.columns\n",
    "        scaled = grouped.copy()\n",
    "\n",
    "        for x_val in x_vals:\n",
    "            scaled[x_val] = scaled[x_val] / totals.loc[x_val] * 100\n",
    "        \n",
    "        scaled.index.name = f'{col}'\n",
    "        tables.append((np.round(scaled, decimals=2), len(df_col)))\n",
    "    \n",
    "    return tables"
   ]
  },
  {
   "cell_type": "code",
   "execution_count": 31,
   "metadata": {},
   "outputs": [],
   "source": [
    "def freq_df(x, hue=None, col=None):\n",
    "    col_name = col.name\n",
    "    hue_name = hue.name\n",
    "    x_name = x.name\n",
    "\n",
    "    tbls = freq_table(x, hue=hue, col=col)\n",
    "    df_list = []\n",
    "    for dft, N in tbls:\n",
    "        dft.drop('Total', axis=1, inplace=True)\n",
    "        te = pd.DataFrame([(x, hue, vals) for (hue, x),\n",
    "                           vals in zip(it.product(dft.index,\n",
    "                                                  dft.columns),\n",
    "                                       dft.values.flatten())],\n",
    "                          columns=[x_name, hue_name, 'Percentage'])\n",
    "        te[col_name] = dft.index.name\n",
    "        te['Number'] = N\n",
    "        df_list.append(te)\n",
    "\n",
    "    df = pd.concat(df_list, ignore_index=True)\n",
    "    \n",
    "    return df, tbls\n"
   ]
  },
  {
   "cell_type": "code",
   "execution_count": 32,
   "metadata": {},
   "outputs": [],
   "source": [
    "freq_dfs, freq_tables = freq_df(df.Age5, hue=df.Gender, col=df.Race_Ident)"
   ]
  },
  {
   "cell_type": "code",
   "execution_count": 33,
   "metadata": {},
   "outputs": [
    {
     "data": {
      "text/html": [
       "<div>\n",
       "<style scoped>\n",
       "    .dataframe tbody tr th:only-of-type {\n",
       "        vertical-align: middle;\n",
       "    }\n",
       "\n",
       "    .dataframe tbody tr th {\n",
       "        vertical-align: top;\n",
       "    }\n",
       "\n",
       "    .dataframe thead th {\n",
       "        text-align: right;\n",
       "    }\n",
       "</style>\n",
       "<table border=\"1\" class=\"dataframe\">\n",
       "  <thead>\n",
       "    <tr style=\"text-align: right;\">\n",
       "      <th></th>\n",
       "      <th>Age5</th>\n",
       "      <th>Gender</th>\n",
       "      <th>Percentage</th>\n",
       "      <th>Race_Ident</th>\n",
       "      <th>Number</th>\n",
       "    </tr>\n",
       "  </thead>\n",
       "  <tbody>\n",
       "    <tr>\n",
       "      <th>0</th>\n",
       "      <td>18-29</td>\n",
       "      <td>Female</td>\n",
       "      <td>19.76</td>\n",
       "      <td>Very important</td>\n",
       "      <td>728</td>\n",
       "    </tr>\n",
       "    <tr>\n",
       "      <th>1</th>\n",
       "      <td>30-39</td>\n",
       "      <td>Female</td>\n",
       "      <td>18.09</td>\n",
       "      <td>Very important</td>\n",
       "      <td>728</td>\n",
       "    </tr>\n",
       "    <tr>\n",
       "      <th>2</th>\n",
       "      <td>40-49</td>\n",
       "      <td>Female</td>\n",
       "      <td>18.87</td>\n",
       "      <td>Very important</td>\n",
       "      <td>728</td>\n",
       "    </tr>\n",
       "    <tr>\n",
       "      <th>3</th>\n",
       "      <td>50-64</td>\n",
       "      <td>Female</td>\n",
       "      <td>14.13</td>\n",
       "      <td>Very important</td>\n",
       "      <td>728</td>\n",
       "    </tr>\n",
       "    <tr>\n",
       "      <th>4</th>\n",
       "      <td>65+</td>\n",
       "      <td>Female</td>\n",
       "      <td>9.27</td>\n",
       "      <td>Very important</td>\n",
       "      <td>728</td>\n",
       "    </tr>\n",
       "    <tr>\n",
       "      <th>5</th>\n",
       "      <td>18-29</td>\n",
       "      <td>Male</td>\n",
       "      <td>3.59</td>\n",
       "      <td>Very important</td>\n",
       "      <td>728</td>\n",
       "    </tr>\n",
       "    <tr>\n",
       "      <th>6</th>\n",
       "      <td>30-39</td>\n",
       "      <td>Male</td>\n",
       "      <td>6.14</td>\n",
       "      <td>Very important</td>\n",
       "      <td>728</td>\n",
       "    </tr>\n",
       "    <tr>\n",
       "      <th>7</th>\n",
       "      <td>40-49</td>\n",
       "      <td>Male</td>\n",
       "      <td>9.30</td>\n",
       "      <td>Very important</td>\n",
       "      <td>728</td>\n",
       "    </tr>\n",
       "    <tr>\n",
       "      <th>8</th>\n",
       "      <td>50-64</td>\n",
       "      <td>Male</td>\n",
       "      <td>8.81</td>\n",
       "      <td>Very important</td>\n",
       "      <td>728</td>\n",
       "    </tr>\n",
       "    <tr>\n",
       "      <th>9</th>\n",
       "      <td>65+</td>\n",
       "      <td>Male</td>\n",
       "      <td>11.44</td>\n",
       "      <td>Very important</td>\n",
       "      <td>728</td>\n",
       "    </tr>\n",
       "    <tr>\n",
       "      <th>10</th>\n",
       "      <td>18-29</td>\n",
       "      <td>Female</td>\n",
       "      <td>10.18</td>\n",
       "      <td>Not at all important</td>\n",
       "      <td>553</td>\n",
       "    </tr>\n",
       "    <tr>\n",
       "      <th>11</th>\n",
       "      <td>30-39</td>\n",
       "      <td>Female</td>\n",
       "      <td>10.24</td>\n",
       "      <td>Not at all important</td>\n",
       "      <td>553</td>\n",
       "    </tr>\n",
       "    <tr>\n",
       "      <th>12</th>\n",
       "      <td>40-49</td>\n",
       "      <td>Female</td>\n",
       "      <td>11.55</td>\n",
       "      <td>Not at all important</td>\n",
       "      <td>553</td>\n",
       "    </tr>\n",
       "    <tr>\n",
       "      <th>13</th>\n",
       "      <td>50-64</td>\n",
       "      <td>Female</td>\n",
       "      <td>9.72</td>\n",
       "      <td>Not at all important</td>\n",
       "      <td>553</td>\n",
       "    </tr>\n",
       "    <tr>\n",
       "      <th>14</th>\n",
       "      <td>65+</td>\n",
       "      <td>Female</td>\n",
       "      <td>4.79</td>\n",
       "      <td>Not at all important</td>\n",
       "      <td>553</td>\n",
       "    </tr>\n",
       "    <tr>\n",
       "      <th>15</th>\n",
       "      <td>18-29</td>\n",
       "      <td>Male</td>\n",
       "      <td>11.98</td>\n",
       "      <td>Not at all important</td>\n",
       "      <td>553</td>\n",
       "    </tr>\n",
       "    <tr>\n",
       "      <th>16</th>\n",
       "      <td>30-39</td>\n",
       "      <td>Male</td>\n",
       "      <td>9.22</td>\n",
       "      <td>Not at all important</td>\n",
       "      <td>553</td>\n",
       "    </tr>\n",
       "    <tr>\n",
       "      <th>17</th>\n",
       "      <td>40-49</td>\n",
       "      <td>Male</td>\n",
       "      <td>10.14</td>\n",
       "      <td>Not at all important</td>\n",
       "      <td>553</td>\n",
       "    </tr>\n",
       "    <tr>\n",
       "      <th>18</th>\n",
       "      <td>50-64</td>\n",
       "      <td>Male</td>\n",
       "      <td>10.00</td>\n",
       "      <td>Not at all important</td>\n",
       "      <td>553</td>\n",
       "    </tr>\n",
       "    <tr>\n",
       "      <th>19</th>\n",
       "      <td>65+</td>\n",
       "      <td>Male</td>\n",
       "      <td>8.11</td>\n",
       "      <td>Not at all important</td>\n",
       "      <td>553</td>\n",
       "    </tr>\n",
       "    <tr>\n",
       "      <th>20</th>\n",
       "      <td>18-29</td>\n",
       "      <td>Female</td>\n",
       "      <td>19.16</td>\n",
       "      <td>Somewhat important</td>\n",
       "      <td>958</td>\n",
       "    </tr>\n",
       "    <tr>\n",
       "      <th>21</th>\n",
       "      <td>30-39</td>\n",
       "      <td>Female</td>\n",
       "      <td>16.38</td>\n",
       "      <td>Somewhat important</td>\n",
       "      <td>958</td>\n",
       "    </tr>\n",
       "    <tr>\n",
       "      <th>22</th>\n",
       "      <td>40-49</td>\n",
       "      <td>Female</td>\n",
       "      <td>18.31</td>\n",
       "      <td>Somewhat important</td>\n",
       "      <td>958</td>\n",
       "    </tr>\n",
       "    <tr>\n",
       "      <th>23</th>\n",
       "      <td>50-64</td>\n",
       "      <td>Female</td>\n",
       "      <td>18.26</td>\n",
       "      <td>Somewhat important</td>\n",
       "      <td>958</td>\n",
       "    </tr>\n",
       "    <tr>\n",
       "      <th>24</th>\n",
       "      <td>65+</td>\n",
       "      <td>Female</td>\n",
       "      <td>15.07</td>\n",
       "      <td>Somewhat important</td>\n",
       "      <td>958</td>\n",
       "    </tr>\n",
       "    <tr>\n",
       "      <th>25</th>\n",
       "      <td>18-29</td>\n",
       "      <td>Male</td>\n",
       "      <td>7.19</td>\n",
       "      <td>Somewhat important</td>\n",
       "      <td>958</td>\n",
       "    </tr>\n",
       "    <tr>\n",
       "      <th>26</th>\n",
       "      <td>30-39</td>\n",
       "      <td>Male</td>\n",
       "      <td>5.80</td>\n",
       "      <td>Somewhat important</td>\n",
       "      <td>958</td>\n",
       "    </tr>\n",
       "    <tr>\n",
       "      <th>27</th>\n",
       "      <td>40-49</td>\n",
       "      <td>Male</td>\n",
       "      <td>5.35</td>\n",
       "      <td>Somewhat important</td>\n",
       "      <td>958</td>\n",
       "    </tr>\n",
       "    <tr>\n",
       "      <th>28</th>\n",
       "      <td>50-64</td>\n",
       "      <td>Male</td>\n",
       "      <td>10.55</td>\n",
       "      <td>Somewhat important</td>\n",
       "      <td>958</td>\n",
       "    </tr>\n",
       "    <tr>\n",
       "      <th>29</th>\n",
       "      <td>65+</td>\n",
       "      <td>Male</td>\n",
       "      <td>19.78</td>\n",
       "      <td>Somewhat important</td>\n",
       "      <td>958</td>\n",
       "    </tr>\n",
       "    <tr>\n",
       "      <th>30</th>\n",
       "      <td>18-29</td>\n",
       "      <td>Female</td>\n",
       "      <td>19.16</td>\n",
       "      <td>Not very important</td>\n",
       "      <td>960</td>\n",
       "    </tr>\n",
       "    <tr>\n",
       "      <th>31</th>\n",
       "      <td>30-39</td>\n",
       "      <td>Female</td>\n",
       "      <td>24.91</td>\n",
       "      <td>Not very important</td>\n",
       "      <td>960</td>\n",
       "    </tr>\n",
       "    <tr>\n",
       "      <th>32</th>\n",
       "      <td>40-49</td>\n",
       "      <td>Female</td>\n",
       "      <td>18.31</td>\n",
       "      <td>Not very important</td>\n",
       "      <td>960</td>\n",
       "    </tr>\n",
       "    <tr>\n",
       "      <th>33</th>\n",
       "      <td>50-64</td>\n",
       "      <td>Female</td>\n",
       "      <td>16.79</td>\n",
       "      <td>Not very important</td>\n",
       "      <td>960</td>\n",
       "    </tr>\n",
       "    <tr>\n",
       "      <th>34</th>\n",
       "      <td>65+</td>\n",
       "      <td>Female</td>\n",
       "      <td>13.21</td>\n",
       "      <td>Not very important</td>\n",
       "      <td>960</td>\n",
       "    </tr>\n",
       "    <tr>\n",
       "      <th>35</th>\n",
       "      <td>18-29</td>\n",
       "      <td>Male</td>\n",
       "      <td>8.98</td>\n",
       "      <td>Not very important</td>\n",
       "      <td>960</td>\n",
       "    </tr>\n",
       "    <tr>\n",
       "      <th>36</th>\n",
       "      <td>30-39</td>\n",
       "      <td>Male</td>\n",
       "      <td>9.22</td>\n",
       "      <td>Not very important</td>\n",
       "      <td>960</td>\n",
       "    </tr>\n",
       "    <tr>\n",
       "      <th>37</th>\n",
       "      <td>40-49</td>\n",
       "      <td>Male</td>\n",
       "      <td>8.17</td>\n",
       "      <td>Not very important</td>\n",
       "      <td>960</td>\n",
       "    </tr>\n",
       "    <tr>\n",
       "      <th>38</th>\n",
       "      <td>50-64</td>\n",
       "      <td>Male</td>\n",
       "      <td>11.74</td>\n",
       "      <td>Not very important</td>\n",
       "      <td>960</td>\n",
       "    </tr>\n",
       "    <tr>\n",
       "      <th>39</th>\n",
       "      <td>65+</td>\n",
       "      <td>Male</td>\n",
       "      <td>18.32</td>\n",
       "      <td>Not very important</td>\n",
       "      <td>960</td>\n",
       "    </tr>\n",
       "  </tbody>\n",
       "</table>\n",
       "</div>"
      ],
      "text/plain": [
       "     Age5  Gender  Percentage            Race_Ident  Number\n",
       "0   18-29  Female       19.76        Very important     728\n",
       "1   30-39  Female       18.09        Very important     728\n",
       "2   40-49  Female       18.87        Very important     728\n",
       "3   50-64  Female       14.13        Very important     728\n",
       "4     65+  Female        9.27        Very important     728\n",
       "5   18-29    Male        3.59        Very important     728\n",
       "6   30-39    Male        6.14        Very important     728\n",
       "7   40-49    Male        9.30        Very important     728\n",
       "8   50-64    Male        8.81        Very important     728\n",
       "9     65+    Male       11.44        Very important     728\n",
       "10  18-29  Female       10.18  Not at all important     553\n",
       "11  30-39  Female       10.24  Not at all important     553\n",
       "12  40-49  Female       11.55  Not at all important     553\n",
       "13  50-64  Female        9.72  Not at all important     553\n",
       "14    65+  Female        4.79  Not at all important     553\n",
       "15  18-29    Male       11.98  Not at all important     553\n",
       "16  30-39    Male        9.22  Not at all important     553\n",
       "17  40-49    Male       10.14  Not at all important     553\n",
       "18  50-64    Male       10.00  Not at all important     553\n",
       "19    65+    Male        8.11  Not at all important     553\n",
       "20  18-29  Female       19.16    Somewhat important     958\n",
       "21  30-39  Female       16.38    Somewhat important     958\n",
       "22  40-49  Female       18.31    Somewhat important     958\n",
       "23  50-64  Female       18.26    Somewhat important     958\n",
       "24    65+  Female       15.07    Somewhat important     958\n",
       "25  18-29    Male        7.19    Somewhat important     958\n",
       "26  30-39    Male        5.80    Somewhat important     958\n",
       "27  40-49    Male        5.35    Somewhat important     958\n",
       "28  50-64    Male       10.55    Somewhat important     958\n",
       "29    65+    Male       19.78    Somewhat important     958\n",
       "30  18-29  Female       19.16    Not very important     960\n",
       "31  30-39  Female       24.91    Not very important     960\n",
       "32  40-49  Female       18.31    Not very important     960\n",
       "33  50-64  Female       16.79    Not very important     960\n",
       "34    65+  Female       13.21    Not very important     960\n",
       "35  18-29    Male        8.98    Not very important     960\n",
       "36  30-39    Male        9.22    Not very important     960\n",
       "37  40-49    Male        8.17    Not very important     960\n",
       "38  50-64    Male       11.74    Not very important     960\n",
       "39    65+    Male       18.32    Not very important     960"
      ]
     },
     "execution_count": 33,
     "metadata": {},
     "output_type": "execute_result"
    }
   ],
   "source": [
    "freq_dfs"
   ]
  },
  {
   "cell_type": "code",
   "execution_count": 40,
   "metadata": {},
   "outputs": [
    {
     "data": {
      "image/png": "[encoded data removed]",
      "text/plain": [
       "<Figure size 839.775x720 with 4 Axes>"
      ]
     },
     "metadata": {},
     "output_type": "display_data"
    }
   ],
   "source": [
    "s = sns.catplot(x='Age5', y='Percentage', hue='Gender', col='Race_Ident', \n",
    "                data=freq_dfs, kind='bar', col_wrap=2)\n",
    "for ax in s.axes:\n",
    "    ax.set_xticklabels(age_order)\n",
    "    ax.set_ylim([0, 50])\n",
    "# s.figure.set_figheight(10)\n",
    "# s.figure.set_figwidth(15)\n",
    "# s.axes.tick_params(axis='x', rotation=45)\n",
    "# s.axes.set_xlabel('')"
   ]
  },
  {
   "cell_type": "code",
   "execution_count": 47,
   "metadata": {},
   "outputs": [
    {
     "ename": "AttributeError",
     "evalue": "'DataFrame' object has no attribute 'Remarks'",
     "output_type": "error",
     "traceback": [
      "\u001b[0;31m---------------------------------------------------------------------------\u001b[0m",
      "\u001b[0;31mAttributeError\u001b[0m                            Traceback (most recent call last)",
      "\u001b[0;32m<ipython-input-47-ba2e63760394>\u001b[0m in \u001b[0;36m<module>\u001b[0;34m()\u001b[0m\n\u001b[1;32m      3\u001b[0m     \u001b[0msm\u001b[0m \u001b[0;34m=\u001b[0m \u001b[0mfreq_dfs\u001b[0m\u001b[0;34m[\u001b[0m\u001b[0mfreq_dfs\u001b[0m\u001b[0;34m.\u001b[0m\u001b[0mAge5\u001b[0m \u001b[0;34m==\u001b[0m \u001b[0mage\u001b[0m\u001b[0;34m]\u001b[0m\u001b[0;34m\u001b[0m\u001b[0;34m\u001b[0m\u001b[0m\n\u001b[1;32m      4\u001b[0m \u001b[0;31m#     li.append([age,\u001b[0m\u001b[0;34m\u001b[0m\u001b[0;34m\u001b[0m\u001b[0;34m\u001b[0m\u001b[0m\n\u001b[0;32m----> 5\u001b[0;31m     \u001b[0mli\u001b[0m\u001b[0;34m.\u001b[0m\u001b[0mappend\u001b[0m\u001b[0;34m(\u001b[0m\u001b[0;34m[\u001b[0m\u001b[0mage\u001b[0m\u001b[0;34m,\u001b[0m \u001b[0msm\u001b[0m\u001b[0;34m[\u001b[0m\u001b[0msm\u001b[0m\u001b[0;34m.\u001b[0m\u001b[0mRemarks\u001b[0m \u001b[0;34m==\u001b[0m \u001b[0;34m'Positive'\u001b[0m\u001b[0;34m]\u001b[0m\u001b[0;34m[\u001b[0m\u001b[0;34m'Percentage'\u001b[0m\u001b[0;34m]\u001b[0m\u001b[0;34m.\u001b[0m\u001b[0mvalues\u001b[0m\u001b[0;34m[\u001b[0m\u001b[0;36m0\u001b[0m\u001b[0;34m]\u001b[0m \u001b[0;34m-\u001b[0m \u001b[0msm\u001b[0m\u001b[0;34m[\u001b[0m\u001b[0msm\u001b[0m\u001b[0;34m.\u001b[0m\u001b[0mRemarks\u001b[0m \u001b[0;34m==\u001b[0m \u001b[0;34m'Negative'\u001b[0m\u001b[0;34m]\u001b[0m\u001b[0;34m[\u001b[0m\u001b[0;34m'Percentage'\u001b[0m\u001b[0;34m]\u001b[0m\u001b[0;34m.\u001b[0m\u001b[0mvalues\u001b[0m\u001b[0;34m[\u001b[0m\u001b[0;36m0\u001b[0m\u001b[0;34m]\u001b[0m\u001b[0;34m]\u001b[0m\u001b[0;34m)\u001b[0m\u001b[0;34m\u001b[0m\u001b[0;34m\u001b[0m\u001b[0m\n\u001b[0m",
      "\u001b[0;32m~/anaconda3/lib/python3.6/site-packages/pandas/core/generic.py\u001b[0m in \u001b[0;36m__getattr__\u001b[0;34m(self, name)\u001b[0m\n\u001b[1;32m   4374\u001b[0m             \u001b[0;32mif\u001b[0m \u001b[0mself\u001b[0m\u001b[0;34m.\u001b[0m\u001b[0m_info_axis\u001b[0m\u001b[0;34m.\u001b[0m\u001b[0m_can_hold_identifiers_and_holds_name\u001b[0m\u001b[0;34m(\u001b[0m\u001b[0mname\u001b[0m\u001b[0;34m)\u001b[0m\u001b[0;34m:\u001b[0m\u001b[0;34m\u001b[0m\u001b[0;34m\u001b[0m\u001b[0m\n\u001b[1;32m   4375\u001b[0m                 \u001b[0;32mreturn\u001b[0m \u001b[0mself\u001b[0m\u001b[0;34m[\u001b[0m\u001b[0mname\u001b[0m\u001b[0;34m]\u001b[0m\u001b[0;34m\u001b[0m\u001b[0;34m\u001b[0m\u001b[0m\n\u001b[0;32m-> 4376\u001b[0;31m             \u001b[0;32mreturn\u001b[0m \u001b[0mobject\u001b[0m\u001b[0;34m.\u001b[0m\u001b[0m__getattribute__\u001b[0m\u001b[0;34m(\u001b[0m\u001b[0mself\u001b[0m\u001b[0;34m,\u001b[0m \u001b[0mname\u001b[0m\u001b[0;34m)\u001b[0m\u001b[0;34m\u001b[0m\u001b[0;34m\u001b[0m\u001b[0m\n\u001b[0m\u001b[1;32m   4377\u001b[0m \u001b[0;34m\u001b[0m\u001b[0m\n\u001b[1;32m   4378\u001b[0m     \u001b[0;32mdef\u001b[0m \u001b[0m__setattr__\u001b[0m\u001b[0;34m(\u001b[0m\u001b[0mself\u001b[0m\u001b[0;34m,\u001b[0m \u001b[0mname\u001b[0m\u001b[0;34m,\u001b[0m \u001b[0mvalue\u001b[0m\u001b[0;34m)\u001b[0m\u001b[0;34m:\u001b[0m\u001b[0;34m\u001b[0m\u001b[0;34m\u001b[0m\u001b[0m\n",
      "\u001b[0;31mAttributeError\u001b[0m: 'DataFrame' object has no attribute 'Remarks'"
     ]
    }
   ],
   "source": [
    "li = []\n",
    "for age in freq_dfs.Age5.unique():\n",
    "    sm = freq_dfs[freq_dfs.Age5 == age]\n",
    "#     li.append([age, \n",
    "    li.append([age, sm[sm.Remarks == 'Positive']['Percentage'].values[0] - sm[sm.Remarks == 'Negative']['Percentage'].values[0]])"
   ]
  },
  {
   "cell_type": "code",
   "execution_count": 48,
   "metadata": {},
   "outputs": [
    {
     "data": {
      "text/html": [
       "<div>\n",
       "<style scoped>\n",
       "    .dataframe tbody tr th:only-of-type {\n",
       "        vertical-align: middle;\n",
       "    }\n",
       "\n",
       "    .dataframe tbody tr th {\n",
       "        vertical-align: top;\n",
       "    }\n",
       "\n",
       "    .dataframe thead th {\n",
       "        text-align: right;\n",
       "    }\n",
       "</style>\n",
       "<table border=\"1\" class=\"dataframe\">\n",
       "  <thead>\n",
       "    <tr style=\"text-align: right;\">\n",
       "      <th></th>\n",
       "      <th>Age</th>\n",
       "      <th>Net Positivity</th>\n",
       "    </tr>\n",
       "  </thead>\n",
       "  <tbody>\n",
       "  </tbody>\n",
       "</table>\n",
       "</div>"
      ],
      "text/plain": [
       "Empty DataFrame\n",
       "Columns: [Age, Net Positivity]\n",
       "Index: []"
      ]
     },
     "execution_count": 48,
     "metadata": {},
     "output_type": "execute_result"
    }
   ],
   "source": [
    "dfc = pd.DataFrame(li, columns=['Age', 'Net Positivity'])\n",
    "dfc"
   ]
  },
  {
   "cell_type": "code",
   "execution_count": 49,
   "metadata": {},
   "outputs": [
    {
     "data": {
      "text/plain": [
       "<matplotlib.axes._subplots.AxesSubplot at 0x7fc239f00518>"
      ]
     },
     "execution_count": 49,
     "metadata": {},
     "output_type": "execute_result"
    },
    {
     "data": {
      "image/png": "[encoded data removed]",
      "text/plain": [
       "<Figure size 432x288 with 1 Axes>"
      ]
     },
     "metadata": {},
     "output_type": "display_data"
    }
   ],
   "source": [
    "sns.lineplot(x='Age', y='Net Positivity', data=dfc)"
   ]
  },
  {
   "cell_type": "code",
   "execution_count": null,
   "metadata": {},
   "outputs": [],
   "source": []
  },
  {
   "cell_type": "code",
   "execution_count": null,
   "metadata": {},
   "outputs": [],
   "source": []
  },
  {
   "cell_type": "code",
   "execution_count": null,
   "metadata": {},
   "outputs": [],
   "source": []
  },
  {
   "cell_type": "code",
   "execution_count": null,
   "metadata": {},
   "outputs": [],
   "source": [
    "state_dict = {f'{value}': f'{key}' for key, value in state_dict.items()}"
   ]
  },
  {
   "cell_type": "code",
   "execution_count": null,
   "metadata": {},
   "outputs": [],
   "source": [
    "scl = [[0.0, 'rgb(242,240,247)'],[0.2, 'rgb(218,218,235)'],[0.4, 'rgb(188,189,220)'],\\\n",
    "            [0.6, 'rgb(158,154,200)'],[0.8, 'rgb(117,107,177)'],[1.0, 'rgb(84,39,143)']]\n",
    "\n",
    "df['text'] = df['state']\n",
    "df['z'] = df.Ft_Blacks.replace('?', '0').astype(float) - 50\n",
    "df['location'] = df.state.replace(state_dict)\n",
    "\n",
    "data = [dict(\n",
    "        type='choropleth',\n",
    "        colorscale = 'YIOrRd',\n",
    "        autocolorscale = True,\n",
    "        locations = df.location,\n",
    "        z = df.z,\n",
    "        locationmode = 'USA-states',\n",
    "        text = df.text,\n",
    "        marker = dict(\n",
    "            line = dict (\n",
    "                color = 'rgb(255,255,255)',\n",
    "                width = 2\n",
    "            ) ),\n",
    "        colorbar = dict(\n",
    "            title = 'Trust')\n",
    "        )]\n",
    "\n",
    "layout = dict(\n",
    "        title = polling_info['FT_Blacks']['question'],\n",
    "        geo = dict(\n",
    "            scope='usa',\n",
    "            projection=dict(type='albers usa'),\n",
    "            showlakes = True,\n",
    "            lakecolor = 'rgb(255, 255, 255)'),\n",
    "             )\n",
    "    \n",
    "fig = dict(data=data, layout=layout)\n",
    "iplot(fig, filename='d3-cloropleth-map.html')"
   ]
  },
  {
   "cell_type": "code",
   "execution_count": null,
   "metadata": {},
   "outputs": [],
   "source": []
  },
  {
   "cell_type": "code",
   "execution_count": null,
   "metadata": {},
   "outputs": [],
   "source": []
  },
  {
   "cell_type": "code",
   "execution_count": null,
   "metadata": {},
   "outputs": [],
   "source": []
  },
  {
   "cell_type": "code",
   "execution_count": null,
   "metadata": {},
   "outputs": [],
   "source": []
  },
  {
   "cell_type": "code",
   "execution_count": null,
   "metadata": {},
   "outputs": [],
   "source": []
  },
  {
   "cell_type": "code",
   "execution_count": null,
   "metadata": {},
   "outputs": [],
   "source": []
  },
  {
   "cell_type": "code",
   "execution_count": null,
   "metadata": {},
   "outputs": [],
   "source": []
  },
  {
   "cell_type": "code",
   "execution_count": null,
   "metadata": {},
   "outputs": [],
   "source": [
    "print(polling_info['FT_Whites']['question'])\n",
    "\n",
    "dft = df[['FT_Whites', 'race']]\n",
    "dft.race = dft['race'].replace('?', 999).astype(int).astype(str).replace('999', '?').replace(polling_info['race'])\n",
    "dft = dft[dft.FT_Whites != '?']\n",
    "dft.FT_Whites = dft[\"FT_Whites\"].astype(float)\n",
    "dfg = dft.groupby(['race']).median()\n",
    "sort_order = dfg.sort_values(by='FT_Whites', ascending=False).index.tolist()\n",
    "\n",
    "x_dat = df[\"race\"].replace('?', 999).astype(int).astype(str).replace('999', '?').replace(polling_info['race'])\n",
    "f, ax = plt.subplots(figsize=(13, 8))\n",
    "idx = df[df.FT_Blacks != '?']\n",
    "df_new = idx[idx.FT_Whites != '?']\n",
    "ax = sns.boxplot(y=x_dat, x=df_new[\"FT_Whites\"].astype(float), order=sort_order)\n",
    "ax.set_ylabel('')\n",
    "ax.set_title('Feelings Toward White People')\n",
    "ax.set_xlabel('')\n",
    "ax.set_xticks([0, 25, 50, 75, 100])\n",
    "ax.set_xticklabels(['Very Negative', 'Negative', 'Neutral', 'Positive', 'Very Positive'])\n",
    "dfpSave('feelings_towards_white_people_by_race.png', [ax])\n",
    "plt.show()"
   ]
  },
  {
   "cell_type": "code",
   "execution_count": null,
   "metadata": {},
   "outputs": [],
   "source": []
  },
  {
   "cell_type": "code",
   "execution_count": null,
   "metadata": {},
   "outputs": [],
   "source": []
  },
  {
   "cell_type": "code",
   "execution_count": null,
   "metadata": {},
   "outputs": [],
   "source": [
    "table = pd.pivot_table(df, index=['Age', 'Party'], columns=['Gender'], aggfunc=np.sum)\n",
    "display(table)"
   ]
  },
  {
   "cell_type": "code",
   "execution_count": null,
   "metadata": {},
   "outputs": [],
   "source": [
    "for x in table:\n",
    "    print(x)"
   ]
  },
  {
   "cell_type": "code",
   "execution_count": null,
   "metadata": {},
   "outputs": [],
   "source": [
    "df.Age.head(5)"
   ]
  },
  {
   "cell_type": "code",
   "execution_count": null,
   "metadata": {},
   "outputs": [],
   "source": [
    "for name in np.sort(df.columns):\n",
    "    print(df[name].head(5))"
   ]
  },
  {
   "cell_type": "code",
   "execution_count": null,
   "metadata": {},
   "outputs": [],
   "source": [
    "list(polling_info['FLAG'].values())"
   ]
  },
  {
   "cell_type": "code",
   "execution_count": null,
   "metadata": {},
   "outputs": [],
   "source": [
    "polling_info['FLAG']['question']"
   ]
  },
  {
   "cell_type": "code",
   "execution_count": null,
   "metadata": {},
   "outputs": [],
   "source": [
    "df['Gender'].value_counts()"
   ]
  },
  {
   "cell_type": "code",
   "execution_count": null,
   "metadata": {},
   "outputs": [],
   "source": []
  },
  {
   "cell_type": "code",
   "execution_count": 52,
   "metadata": {},
   "outputs": [
    {
     "data": {
      "text/plain": [
       "3215"
      ]
     },
     "execution_count": 52,
     "metadata": {},
     "output_type": "execute_result"
    }
   ],
   "source": [
    "df.state.value_counts().sort_index().sum()"
   ]
  },
  {
   "cell_type": "code",
   "execution_count": null,
   "metadata": {},
   "outputs": [],
   "source": []
  }
 ],
 "metadata": {
  "hide_input": false,
  "kernelspec": {
   "display_name": "Python 3",
   "language": "python",
   "name": "python3"
  },
  "language_info": {
   "codemirror_mode": {
    "name": "ipython",
    "version": 3
   },
   "file_extension": ".py",
   "mimetype": "text/x-python",
   "name": "python",
   "nbconvert_exporter": "python",
   "pygments_lexer": "ipython3",
   "version": "3.6.8"
  },
  "toc": {
   "base_numbering": 1,
   "nav_menu": {},
   "number_sections": true,
   "sideBar": true,
   "skip_h1_title": false,
   "title_cell": "Table of Contents",
   "title_sidebar": "Contents",
   "toc_cell": false,
   "toc_position": {},
   "toc_section_display": true,
   "toc_window_display": false
  }
 },
 "nbformat": 4,
 "nbformat_minor": 2
}
